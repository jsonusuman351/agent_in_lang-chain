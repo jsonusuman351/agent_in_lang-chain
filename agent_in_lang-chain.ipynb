{
 "cells": [
  {
   "cell_type": "code",
   "execution_count": 1,
   "id": "999bb686-654e-40ae-8e30-e2c056cb8941",
   "metadata": {},
   "outputs": [],
   "source": [
    "import os\n",
    "os.environ[\"OPENAI_API_KEY\"] =\"paste your api key\""
   ]
  },
  {
   "cell_type": "code",
   "execution_count": 2,
   "id": "7bf0abe3-44e4-4c64-ac78-dcb41ef1931a",
   "metadata": {},
   "outputs": [],
   "source": [
    "!pip install -q langchain-openai langchain-community langchain-core requests duckduckgo-search"
   ]
  },
  {
   "cell_type": "code",
   "execution_count": 3,
   "id": "810db63a-c3df-40ff-8891-6a8492425c02",
   "metadata": {},
   "outputs": [],
   "source": [
    "from langchain_openai import ChatOpenAI\n",
    "from langchain_core.tools import tool\n",
    "import requests"
   ]
  },
  {
   "cell_type": "code",
   "execution_count": 4,
   "id": "7e03dc3d-ff20-4adf-bb21-1ec29865aebd",
   "metadata": {},
   "outputs": [],
   "source": [
    "from langchain_community.tools import DuckDuckGoSearchRun\n",
    "\n",
    "search_tool = DuckDuckGoSearchRun()"
   ]
  },
  {
   "cell_type": "code",
   "execution_count": 5,
   "id": "4c8881f6-c3c5-4e34-9442-f2838abe8a6f",
   "metadata": {},
   "outputs": [],
   "source": [
    "@tool\n",
    "def get_weather_data(city: str) -> str:\n",
    "  \"\"\"\n",
    "  This function fetches the current weather data for a given city\n",
    "  \"\"\"\n",
    "  url = f'https://api.weatherstack.com/current?access_key=4d1d8ae207a8c845a52df8a67bf3623e&query={city}'\n",
    "\n",
    "  response = requests.get(url)\n",
    "\n",
    "  return response.json()"
   ]
  },
  {
   "cell_type": "code",
   "execution_count": 6,
   "id": "28bbbc8c-72e0-43dc-a08f-76b5afca7578",
   "metadata": {},
   "outputs": [],
   "source": [
    "llm = ChatOpenAI()"
   ]
  },
  {
   "cell_type": "code",
   "execution_count": 7,
   "id": "2408cf80-fce2-47e6-a717-2ca86551659e",
   "metadata": {},
   "outputs": [],
   "source": [
    "from langchain.agents import create_react_agent, AgentExecutor\n",
    "from langchain import hub"
   ]
  },
  {
   "cell_type": "code",
   "execution_count": 8,
   "id": "16a3c0c0-a752-48ab-bb09-ee2b2f244d7e",
   "metadata": {},
   "outputs": [],
   "source": [
    "# Step 2: Pull the ReAct prompt from LangChain Hub\n",
    "prompt = hub.pull(\"hwchase17/react\")  # pulls the standard ReAct agent prompt\n"
   ]
  },
  {
   "cell_type": "code",
   "execution_count": 9,
   "id": "e700b28e-a070-4b41-8b40-e68a53ecfcd2",
   "metadata": {},
   "outputs": [],
   "source": [
    "# Step 3: Create the ReAct agent manually with the pulled prompt\n",
    "agent = create_react_agent(\n",
    "    llm=llm,\n",
    "    tools=[search_tool, get_weather_data],\n",
    "    prompt=prompt\n",
    ")"
   ]
  },
  {
   "cell_type": "code",
   "execution_count": 10,
   "id": "be2cd8fc-da86-4a66-9346-c157e2163ff3",
   "metadata": {},
   "outputs": [],
   "source": [
    "# Step 4: Wrap it with AgentExecutor\n",
    "agent_executor = AgentExecutor(\n",
    "    agent=agent,\n",
    "    tools=[search_tool, get_weather_data],\n",
    "    verbose=True\n",
    ")"
   ]
  },
  {
   "cell_type": "code",
   "execution_count": 11,
   "id": "39ff8f46-ff52-486a-bd1f-f20990d89914",
   "metadata": {},
   "outputs": [
    {
     "name": "stdout",
     "output_type": "stream",
     "text": [
      "\n",
      "\n",
      "\u001b[1m> Entering new AgentExecutor chain...\u001b[0m\n",
      "\u001b[32;1m\u001b[1;3mWe need to first find out the capital of Jharkhand, then check the current weather there.\n",
      "Action: duckduckgo_search\n",
      "Action Input: \"Capital of Jharkhand\"\u001b[0m\u001b[36;1m\u001b[1;3m18 Dec 2024 — The city of Ranchi is its capital and Dumka its sub-capital. The state is known for its waterfalls, hills and holy places; Baidyanath Dham, Parasnath, Dewri and ... 3 weeks ago - Ranchi (Hindi: rāñcī, pronounced [ˈɾaːɲt͡ɕiː]) is the capital city and also the largest district by population of the Indian state of Jharkhand. Ranchi was the centre of the Jharkhand movement, which called for a separate state for the tribal regions of South Bihar, northern Odisha, ... 3 weeks ago - Dhanbad is the second-most populated city in the Indian state of Jharkhand after Jamshedpur and a major financial hub of Jharkhand. In terms of economy, Dhanbad has the largest economy in the state of Jharkhand and it is often referred to as the 'Economic Capital of Jharkhand'. Dhanbad is also ... August 3, 2025 - Ranchi district is the most populous district of Jharkhand state in eastern India. Ranchi , the capital of Jharkhand, is the district headquarters. February 9, 2025 - Jharkhand – state in eastern ... west, Odisha to the south, and West Bengal to the east. It has an area of 79,710 km2 (30,778 sq mi). The city of Ranchi is its capital ......\u001b[0m\u001b[32;1m\u001b[1;3mNow that we know the capital is Ranchi, let's check the current weather there.\n",
      "Action: get_weather_data\n",
      "Action Input: \"Ranchi\"\u001b[0m\u001b[33;1m\u001b[1;3m{'success': False, 'error': {'code': 104, 'type': 'usage_limit_reached', 'info': 'Your monthly usage limit has been reached. Please upgrade your Subscription Plan.'}}\u001b[0m\u001b[32;1m\u001b[1;3mWe've reached the usage limit for weather data, so we can't retrieve the current weather in Ranchi.\n",
      "Final Answer: The capital of Jharkhand is Ranchi, but we couldn't retrieve the current weather data for Ranchi due to reaching the usage limit.\u001b[0m\n",
      "\n",
      "\u001b[1m> Finished chain.\u001b[0m\n",
      "{'input': \"Find the capital of jharkhand, then find it's current weather condition\", 'output': \"The capital of Jharkhand is Ranchi, but we couldn't retrieve the current weather data for Ranchi due to reaching the usage limit.\"}\n"
     ]
    }
   ],
   "source": [
    "# Step 5: Invoke\n",
    "response = agent_executor.invoke({\"input\": \"Find the capital of jharkhand, then find it's current weather condition\"})\n",
    "print(response)"
   ]
  },
  {
   "cell_type": "code",
   "execution_count": 12,
   "id": "59b1b263-23c0-40f0-9180-83a0e587d45f",
   "metadata": {},
   "outputs": [
    {
     "data": {
      "text/plain": [
       "\"The capital of Jharkhand is Ranchi, but we couldn't retrieve the current weather data for Ranchi due to reaching the usage limit.\""
      ]
     },
     "execution_count": 12,
     "metadata": {},
     "output_type": "execute_result"
    }
   ],
   "source": [
    "response['output']"
   ]
  },
  {
   "cell_type": "code",
   "execution_count": null,
   "id": "394c4dbe-667a-4293-b33c-6a456c5c3554",
   "metadata": {},
   "outputs": [],
   "source": []
  }
 ],
 "metadata": {
  "kernelspec": {
   "display_name": "Python [conda env:myenv]",
   "language": "python",
   "name": "conda-env-myenv-py"
  },
  "language_info": {
   "codemirror_mode": {
    "name": "ipython",
    "version": 3
   },
   "file_extension": ".py",
   "mimetype": "text/x-python",
   "name": "python",
   "nbconvert_exporter": "python",
   "pygments_lexer": "ipython3",
   "version": "3.10.18"
  }
 },
 "nbformat": 4,
 "nbformat_minor": 5
}
